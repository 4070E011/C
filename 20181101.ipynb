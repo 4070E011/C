{
  "nbformat": 4,
  "nbformat_minor": 0,
  "metadata": {
    "colab": {
      "name": "Untitled1.ipynb",
      "version": "0.3.2",
      "provenance": [],
      "include_colab_link": true
    },
    "kernelspec": {
      "name": "python3",
      "display_name": "Python 3"
    }
  },
  "cells": [
    {
      "cell_type": "markdown",
      "metadata": {
        "id": "view-in-github",
        "colab_type": "text"
      },
      "source": [
        "<a href=\"https://colab.research.google.com/github/4070E011/C/blob/master/20181101.ipynb\" target=\"_parent\"><img src=\"https://colab.research.google.com/assets/colab-badge.svg\" alt=\"Open In Colab\"/></a>"
      ]
    },
    {
      "metadata": {
        "id": "EZtsnbY55JnT",
        "colab_type": "text"
      },
      "cell_type": "markdown",
      "source": [
        "###Chapter 1.1 ShowCurrentTime"
      ]
    },
    {
      "metadata": {
        "id": "tGBlJSif2zxT",
        "colab_type": "code",
        "colab": {
          "base_uri": "https://localhost:8080/",
          "height": 35
        },
        "outputId": "a150156c-bce7-4ede-a79d-bc07524590e0"
      },
      "cell_type": "code",
      "source": [
        "import time\n",
        "\n",
        "currentTime = time.time() # Get current time\n",
        "\n",
        "# Obtain the total seconds since midnight, Jan 1, 1970\n",
        "totalSeconds = int(currentTime)\n",
        "\n",
        "# Get the current second \n",
        "currentSecond = totalSeconds % 60 \n",
        "\n",
        "# Obtain the total minutes\n",
        "totalMinutes = totalSeconds // 60 \n",
        "\n",
        "# Compute the current minute in the hour\n",
        "currentMinute = totalMinutes % 60\n",
        "\n",
        "# Obtain the total hours\n",
        "totalHours = totalMinutes // 60\n",
        "\n",
        "# Compute the current hour\n",
        "currentHour = totalHours % 24\n",
        "\n",
        "# Display results\n",
        "print(\"Current time is \" + str(currentHour) + \":\"\n",
        "    + str(currentMinute) + \":\" + str(currentSecond) + \" GMT\")"
      ],
      "execution_count": 1,
      "outputs": [
        {
          "output_type": "stream",
          "text": [
            "Current time is 6:0:53 GMT\n"
          ],
          "name": "stdout"
        }
      ]
    },
    {
      "metadata": {
        "id": "Nrp3oOfN333E",
        "colab_type": "text"
      },
      "cell_type": "markdown",
      "source": [
        "###Chapter 2.1 ComputeArea"
      ]
    },
    {
      "metadata": {
        "id": "IcPv-kBS3A1s",
        "colab_type": "code",
        "colab": {
          "base_uri": "https://localhost:8080/",
          "height": 35
        },
        "outputId": "e0f4f942-1a31-486b-e0d5-f3bb160190c5"
      },
      "cell_type": "code",
      "source": [
        "# Assign a radius\n",
        "radius = 20 # radius is now 20\n",
        " \n",
        "# Compute area\n",
        "area = radius * radius * 3.14159\n",
        "\n",
        "# Display results\n",
        "print(\"The area for the circle of radius\", radius, \"is\", area)"
      ],
      "execution_count": 2,
      "outputs": [
        {
          "output_type": "stream",
          "text": [
            "The area for the circle of radius 20 is 1256.636\n"
          ],
          "name": "stdout"
        }
      ]
    },
    {
      "metadata": {
        "id": "PPil5lRM4PG0",
        "colab_type": "text"
      },
      "cell_type": "markdown",
      "source": [
        "###Chapter 3.1  MathFunctions"
      ]
    },
    {
      "metadata": {
        "id": "vy7BEYa54-iF",
        "colab_type": "code",
        "colab": {
          "base_uri": "https://localhost:8080/",
          "height": 173
        },
        "outputId": "9a2612db-a1fb-46de-a9f2-083444f89038"
      },
      "cell_type": "code",
      "source": [
        "import math # import Math module to use the math functions\n",
        " 三角函數\n",
        "# Test algebraic functions\n",
        "print(\"exp(1.0) =\", math.exp(1))\n",
        "print(\"log(3.78) =\", math.log(math.e))\n",
        "print(\"log10(10, 10) =\", math.log(10, 10))\n",
        "print(\"sqrt(4.0) =\", math.sqrt(4.0))\n",
        " \n",
        "# Test trigonometric functions\n",
        "print(\"sin(PI / 2) =\", math.sin(math.pi / 2))\n",
        "print(\"cos(PI / 2) =\", math.cos(math.pi / 2))\n",
        "print(\"tan(PI / 2) =\", math.tan(math.pi / 2))\n",
        "print(\"degrees(1.57) =\", math.degrees(1.57))\n",
        "print(\"radians(90) =\", math.radians(90))\n"
      ],
      "execution_count": 3,
      "outputs": [
        {
          "output_type": "stream",
          "text": [
            "exp(1.0) = 2.718281828459045\n",
            "log(3.78) = 1.0\n",
            "log10(10, 10) = 1.0\n",
            "sqrt(4.0) = 2.0\n",
            "sin(PI / 2) = 1.0\n",
            "cos(PI / 2) = 6.123233995736766e-17\n",
            "tan(PI / 2) = 1.633123935319537e+16\n",
            "degrees(1.57) = 89.95437383553924\n",
            "radians(90) = 1.5707963267948966\n"
          ],
          "name": "stdout"
        }
      ]
    },
    {
      "metadata": {
        "id": "BGjTBiD75TG0",
        "colab_type": "text"
      },
      "cell_type": "markdown",
      "source": [
        "### Chapter 4.2 SimpleIfDemo"
      ]
    },
    {
      "metadata": {
        "id": "P8u_YXFL5TUL",
        "colab_type": "code",
        "colab": {
          "base_uri": "https://localhost:8080/",
          "height": 52
        },
        "outputId": "3992e4c0-dc30-487c-ca08-4a6229a331cc"
      },
      "cell_type": "code",
      "source": [
        "number = eval(input(\"Enter an integer: \"))\n",
        "\n",
        "if number % 5 == 0 :\n",
        "   print(\"HiFive\");\n",
        "\n",
        "if number % 2 == 0 :\n",
        "   print(\"HiEven\");"
      ],
      "execution_count": 5,
      "outputs": [
        {
          "output_type": "stream",
          "text": [
            "Enter an integer: 2\n",
            "HiEven\n"
          ],
          "name": "stdout"
        }
      ]
    },
    {
      "metadata": {
        "id": "-NzLbrNj6UE0",
        "colab_type": "text"
      },
      "cell_type": "markdown",
      "source": [
        "### Chapter 5.4 SubtractionQuizLoop"
      ]
    },
    {
      "metadata": {
        "id": "WGsXhpBp6UKM",
        "colab_type": "code",
        "colab": {
          "base_uri": "https://localhost:8080/",
          "height": 243
        },
        "outputId": "680f0e06-870b-4663-bc43-73f17d5c1ad2"
      },
      "cell_type": "code",
      "source": [
        "import random\n",
        "import time\n",
        "\n",
        "correctCount = 0 # Count the number of correct answers\n",
        "count = 0 # Count the number of questions\n",
        "NUMBER_OF_QUESTIONS = 5 # Constant\n",
        "\n",
        "startTime = time.time() # Get start time\n",
        "\n",
        "while count < NUMBER_OF_QUESTIONS:\n",
        "    # 1. Generate two random single-digit integers\n",
        "    number1 = random.randint(0, 9)\n",
        "    number2 = random.randint(0, 9)\n",
        "\n",
        "    # 2. If number1 < number2, swap number1 with number2\n",
        "    if number1 < number2:\n",
        "        number1, number2 = number2, number1\n",
        "\n",
        "    # 3. Prompt the student to answer \"what is number1 - number2?\" \n",
        "    answer = eval(input(\"What is \" + str(number1) + \" - \" + \n",
        "        str(number2) + \"? \"))\n",
        "\n",
        "    # 5. Grade the answer and display the result\n",
        "    if number1 - number2 == answer:\n",
        "        print(\"You are correct!\")\n",
        "        correctCount += 1\n",
        "    else:\n",
        "        print(\"Your answer is wrong.\\n\", number1, \"-\",\n",
        "            number2, \"should be\", (number1 - number2))\n",
        "\n",
        "    # Increase the count\n",
        "    count += 1\n",
        "\n",
        "endTime = time.time() # Get end time\n",
        "testTime = int(endTime - startTime) # Get test time\n",
        "print(\"Correct count is\", correctCount, \"out of\", \n",
        "    NUMBER_OF_QUESTIONS, \"\\nTest time is\", testTime, \"seconds\")\n"
      ],
      "execution_count": 6,
      "outputs": [
        {
          "output_type": "stream",
          "text": [
            "What is 8 - 2? 3\n",
            "Your answer is wrong.\n",
            " 8 - 2 should be 6\n",
            "What is 5 - 2? 3\n",
            "You are correct!\n",
            "What is 1 - 1? 0\n",
            "You are correct!\n",
            "What is 8 - 6? 2\n",
            "You are correct!\n",
            "What is 8 - 3? 5\n",
            "You are correct!\n",
            "Correct count is 4 out of 5 \n",
            "Test time is 20 seconds\n"
          ],
          "name": "stdout"
        }
      ]
    },
    {
      "metadata": {
        "id": "6As5eSnD7sL0",
        "colab_type": "text"
      },
      "cell_type": "markdown",
      "source": [
        "## Chapter 6.1 TestMax"
      ]
    },
    {
      "metadata": {
        "id": "Jz1-MPf27sT0",
        "colab_type": "code",
        "colab": {
          "base_uri": "https://localhost:8080/",
          "height": 35
        },
        "outputId": "e858b331-ac7d-432c-bda5-dc854ad89cd4"
      },
      "cell_type": "code",
      "source": [
        "# Return the max between two numbers \n",
        "def max(num1, num2): \n",
        "    if num1 > num2:\n",
        "        result = num1\n",
        "    else:\n",
        "        result = num2\n",
        "\n",
        "    return result\n",
        "\n",
        "def main():\n",
        "    i = 5\n",
        "    j = 2\n",
        "    k = max(i, j) # Call the max function\n",
        "    print(\"The maximum between\", i, \"and\", j, \"is\", k)\n",
        "\n",
        "main() # Call the main function\n"
      ],
      "execution_count": 7,
      "outputs": [
        {
          "output_type": "stream",
          "text": [
            "The maximum between 5 and 2 is 5\n"
          ],
          "name": "stdout"
        }
      ]
    },
    {
      "metadata": {
        "id": "_7DWD_Lr8Rp9",
        "colab_type": "text"
      },
      "cell_type": "markdown",
      "source": [
        ""
      ]
    },
    {
      "metadata": {
        "id": "9ldxggr18RtR",
        "colab_type": "code",
        "colab": {}
      },
      "cell_type": "code",
      "source": [
        ""
      ],
      "execution_count": 0,
      "outputs": []
    }
  ]
}